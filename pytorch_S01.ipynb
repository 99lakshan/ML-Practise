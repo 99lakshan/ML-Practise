{
  "nbformat": 4,
  "nbformat_minor": 0,
  "metadata": {
    "colab": {
      "provenance": [],
      "authorship_tag": "ABX9TyM1nAHA9punM1Fq5DA7Qrck",
      "include_colab_link": true
    },
    "kernelspec": {
      "name": "python3",
      "display_name": "Python 3"
    },
    "language_info": {
      "name": "python"
    }
  },
  "cells": [
    {
      "cell_type": "markdown",
      "metadata": {
        "id": "view-in-github",
        "colab_type": "text"
      },
      "source": [
        "<a href=\"https://colab.research.google.com/github/99lakshan/ML-Practise/blob/main/pytorch_S01.ipynb\" target=\"_parent\"><img src=\"https://colab.research.google.com/assets/colab-badge.svg\" alt=\"Open In Colab\"/></a>"
      ]
    },
    {
      "cell_type": "markdown",
      "source": [
        "# This is Pytorch practical note book witch i created"
      ],
      "metadata": {
        "id": "o2HFI4nVSDeF"
      }
    },
    {
      "cell_type": "code",
      "source": [],
      "metadata": {
        "id": "p5JfwwhcSVLe"
      },
      "execution_count": null,
      "outputs": []
    }
  ]
}